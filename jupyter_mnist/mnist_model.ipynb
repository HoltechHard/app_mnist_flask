{
 "cells": [
  {
   "cell_type": "markdown",
   "metadata": {},
   "source": [
    "# Jupyter Notebook - MNIST Dataset\n"
   ]
  },
  {
   "cell_type": "markdown",
   "metadata": {},
   "source": [
    "### Step 1: Exploratory Data Analysis\n"
   ]
  },
  {
   "cell_type": "code",
   "execution_count": 2,
   "metadata": {},
   "outputs": [],
   "source": [
    "# import packages\n",
    "import numpy as np\n",
    "import matplotlib.pyplot as plt"
   ]
  },
  {
   "cell_type": "code",
   "execution_count": 4,
   "metadata": {},
   "outputs": [],
   "source": [
    "# read image files\n",
    "def loadImageFiles(file_image):\n",
    "    f = open(file_image, \"rb\")\n",
    "    f.read(16)\n",
    "    pixels = 28 * 28\n",
    "    array_imgs = []\n",
    "\n",
    "    while True:\n",
    "        try:\n",
    "            img = []\n",
    "            for j in range(pixels):\n",
    "                pix = ord(f.read(1))\n",
    "                img.append(pix/255)\n",
    "            array_imgs.append(img)\n",
    "        except:\n",
    "            break\n",
    "        \n",
    "    f.close()\n",
    "    array_imgs = np.array(array_imgs)\n",
    "    return array_imgs"
   ]
  },
  {
   "cell_type": "code",
   "execution_count": 5,
   "metadata": {},
   "outputs": [],
   "source": [
    "# function to see images\n",
    "def show_image(image):\n",
    "    image_2d = (np.reshape(image, (28, 28)) * 255).astype(np.uint8)\n",
    "    plt.imshow(image_2d, interpolation = \"nearest\", cmap = \"gray\")\n",
    "    plt.show()\n",
    "    return"
   ]
  },
  {
   "cell_type": "code",
   "execution_count": 6,
   "metadata": {},
   "outputs": [
    {
     "name": "stdout",
     "output_type": "stream",
     "text": [
      "dim train-set:  (60000, 784)\n"
     ]
    },
    {
     "data": {
      "image/png": "[encoded data removed]",
      "text/plain": [
       "<Figure size 432x288 with 1 Axes>"
      ]
     },
     "metadata": {
      "needs_background": "light"
     },
     "output_type": "display_data"
    }
   ],
   "source": [
    "# load the train-images\n",
    "train_images = loadImageFiles(\"../dataset/train-images.idx3-ubyte\")\n",
    "print(\"dim train-set: \", train_images.shape)\n",
    "show_image(train_images[0])"
   ]
  },
  {
   "cell_type": "code",
   "execution_count": 7,
   "metadata": {},
   "outputs": [
    {
     "name": "stdout",
     "output_type": "stream",
     "text": [
      "dim test-set:  (10000, 784)\n"
     ]
    },
    {
     "data": {
      "image/png": "[encoded data removed]",
      "text/plain": [
       "<Figure size 432x288 with 1 Axes>"
      ]
     },
     "metadata": {
      "needs_background": "light"
     },
     "output_type": "display_data"
    }
   ],
   "source": [
    "# load the test-images\n",
    "test_images = loadImageFiles(\"../dataset/t10k-images.idx3-ubyte\")\n",
    "print(\"dim test-set: \", test_images.shape)\n",
    "show_image(test_images[0])"
   ]
  },
  {
   "cell_type": "code",
   "execution_count": 8,
   "metadata": {},
   "outputs": [],
   "source": [
    "# read labels \n",
    "def loadLabelFiles(file_label):\n",
    "    f = open(file_label, \"rb\")\n",
    "    f.read(8)\n",
    "    array_labels = []\n",
    "\n",
    "    while True:\n",
    "        row = [0 for x in range(10)]\n",
    "        try:\n",
    "            label = ord(f.read(1))\n",
    "            row[label] = 1\n",
    "            array_labels.append(row)\n",
    "        except:\n",
    "            break\n",
    "    \n",
    "    f.close()\n",
    "    array_labels = np.array(array_labels)\n",
    "    return array_labels"
   ]
  },
  {
   "cell_type": "code",
   "execution_count": 9,
   "metadata": {},
   "outputs": [
    {
     "name": "stdout",
     "output_type": "stream",
     "text": [
      "[0 0 0 0 0 1 0 0 0 0]\n"
     ]
    }
   ],
   "source": [
    "# load the train-labels\n",
    "train_labels = loadLabelFiles(\"../dataset/train-labels.idx1-ubyte\")\n",
    "print(train_labels[0])"
   ]
  },
  {
   "cell_type": "code",
   "execution_count": 10,
   "metadata": {},
   "outputs": [
    {
     "name": "stdout",
     "output_type": "stream",
     "text": [
      "[0 0 0 0 0 0 0 1 0 0]\n"
     ]
    }
   ],
   "source": [
    "# load the test-labels\n",
    "test_labels = loadLabelFiles(\"../dataset/t10k-labels.idx1-ubyte\")\n",
    "print(test_labels[0])"
   ]
  },
  {
   "cell_type": "markdown",
   "metadata": {},
   "source": [
    "### Step 2: Implementing Neural Network Architecture"
   ]
  },
  {
   "cell_type": "code",
   "execution_count": 17,
   "metadata": {},
   "outputs": [],
   "source": [
    "# import modules\n",
    "import numpy as np\n",
    "import keras\n",
    "from keras.models import Sequential\n",
    "from keras.layers import Dense, Dropout, Flatten, Activation\n",
    "from keras.layers import Conv2D, MaxPooling2D\n",
    "from keras import backend as K \n",
    "from keras.layers import BatchNormalization\n"
   ]
  },
  {
   "cell_type": "code",
   "execution_count": 13,
   "metadata": {},
   "outputs": [
    {
     "name": "stdout",
     "output_type": "stream",
     "text": [
      "dim train-images:  (60000, 28, 28, 1)\n",
      "dim test-images:  (10000, 28, 28, 1)\n"
     ]
    }
   ],
   "source": [
    "# reshaping the arrays of images for tensor format\n",
    "x_train = train_images.reshape(train_images.shape[0], 28, 28, 1)\n",
    "print(\"dim train-images: \", x_train.shape)\n",
    "x_test = test_images.reshape(test_images.shape[0], 28, 28, 1)\n",
    "print(\"dim test-images: \", x_test.shape)"
   ]
  },
  {
   "cell_type": "code",
   "execution_count": 14,
   "metadata": {},
   "outputs": [
    {
     "name": "stdout",
     "output_type": "stream",
     "text": [
      "dim train-labels:  (60000, 10)\n",
      "dim test-labels:  (10000, 10)\n"
     ]
    }
   ],
   "source": [
    "# reshaping the arrays of labels\n",
    "y_train = train_labels\n",
    "print(\"dim train-labels: \", y_train.shape)\n",
    "y_test = test_labels\n",
    "print(\"dim test-labels: \", y_test.shape)"
   ]
  },
  {
   "cell_type": "code",
   "execution_count": 18,
   "metadata": {},
   "outputs": [],
   "source": [
    "# implementing neural network architecture\n",
    "model = Sequential()\n",
    "\n",
    "# conv-layer 1\n",
    "model.add(Conv2D(filters = 32, kernel_size = (3, 3), input_shape = (28, 28, 1)))\n",
    "model.add(Activation(\"relu\"))\n",
    "BatchNormalization(axis = -1)\n",
    "\n",
    "# conv-layer 2\n",
    "model.add(Conv2D(filters = 32, kernel_size = (3, 3)))\n",
    "model.add(Activation(\"relu\"))\n",
    "model.add(MaxPooling2D(pool_size = (2, 2)))\n",
    "BatchNormalization(axis = -1)\n",
    "\n",
    "# conv-layer 3\n",
    "model.add(Conv2D(filters = 64, kernel_size = (3, 3)))\n",
    "model.add(Activation(\"relu\"))\n",
    "BatchNormalization(axis = -1)\n",
    "\n",
    "# conv-layer 4\n",
    "model.add(Conv2D(filters = 64, kernel_size = (3, 3)))\n",
    "model.add(Activation(\"relu\"))\n",
    "model.add(MaxPooling2D(pool_size = (2, 2)))\n",
    "\n",
    "# flatten\n",
    "model.add(Flatten())\n",
    "BatchNormalization()\n",
    "\n",
    "# fully-connected layer\n",
    "model.add(Dense(512))\n",
    "model.add(Activation(\"relu\"))\n",
    "BatchNormalization()\n",
    "model.add(Dropout(rate = 0.2))\n",
    "\n",
    "# output-layer\n",
    "model.add(Dense(10))\n",
    "model.add(Activation(\"softmax\"))"
   ]
  },
  {
   "cell_type": "code",
   "execution_count": 19,
   "metadata": {},
   "outputs": [],
   "source": [
    "# compile model\n",
    "model.compile(loss = keras.losses.categorical_crossentropy,\n",
    "              optimizer = keras.optimizers.Adam(),\n",
    "              metrics = [\"accuracy\"])"
   ]
  },
  {
   "cell_type": "code",
   "execution_count": 20,
   "metadata": {},
   "outputs": [
    {
     "name": "stdout",
     "output_type": "stream",
     "text": [
      "Epoch 1/20\n",
      "480/480 - 104s - loss: 0.1822 - accuracy: 0.9423 - val_loss: 0.0621 - val_accuracy: 0.9818 - 104s/epoch - 217ms/step\n",
      "Epoch 2/20\n",
      "480/480 - 127s - loss: 0.0455 - accuracy: 0.9856 - val_loss: 0.0399 - val_accuracy: 0.9878 - 127s/epoch - 265ms/step\n",
      "Epoch 3/20\n",
      "480/480 - 109s - loss: 0.0319 - accuracy: 0.9899 - val_loss: 0.0362 - val_accuracy: 0.9894 - 109s/epoch - 227ms/step\n",
      "Epoch 4/20\n",
      "480/480 - 125s - loss: 0.0214 - accuracy: 0.9933 - val_loss: 0.0314 - val_accuracy: 0.9914 - 125s/epoch - 260ms/step\n",
      "Epoch 5/20\n",
      "480/480 - 95s - loss: 0.0177 - accuracy: 0.9945 - val_loss: 0.0476 - val_accuracy: 0.9885 - 95s/epoch - 198ms/step\n",
      "Epoch 6/20\n",
      "480/480 - 92s - loss: 0.0145 - accuracy: 0.9951 - val_loss: 0.0399 - val_accuracy: 0.9904 - 92s/epoch - 191ms/step\n",
      "Epoch 7/20\n",
      "480/480 - 93s - loss: 0.0119 - accuracy: 0.9961 - val_loss: 0.0327 - val_accuracy: 0.9933 - 93s/epoch - 194ms/step\n",
      "Epoch 8/20\n",
      "480/480 - 95s - loss: 0.0102 - accuracy: 0.9964 - val_loss: 0.0422 - val_accuracy: 0.9902 - 95s/epoch - 197ms/step\n",
      "Epoch 9/20\n",
      "480/480 - 94s - loss: 0.0111 - accuracy: 0.9963 - val_loss: 0.0357 - val_accuracy: 0.9908 - 94s/epoch - 196ms/step\n",
      "Epoch 10/20\n",
      "480/480 - 91s - loss: 0.0093 - accuracy: 0.9969 - val_loss: 0.0430 - val_accuracy: 0.9907 - 91s/epoch - 190ms/step\n",
      "Epoch 11/20\n",
      "480/480 - 91s - loss: 0.0075 - accuracy: 0.9977 - val_loss: 0.0445 - val_accuracy: 0.9912 - 91s/epoch - 190ms/step\n",
      "Epoch 12/20\n",
      "480/480 - 91s - loss: 0.0099 - accuracy: 0.9969 - val_loss: 0.0327 - val_accuracy: 0.9920 - 91s/epoch - 190ms/step\n",
      "Epoch 13/20\n",
      "480/480 - 91s - loss: 0.0058 - accuracy: 0.9979 - val_loss: 0.0342 - val_accuracy: 0.9921 - 91s/epoch - 190ms/step\n",
      "Epoch 14/20\n",
      "480/480 - 91s - loss: 0.0060 - accuracy: 0.9981 - val_loss: 0.0380 - val_accuracy: 0.9912 - 91s/epoch - 190ms/step\n",
      "Epoch 15/20\n",
      "480/480 - 91s - loss: 0.0049 - accuracy: 0.9985 - val_loss: 0.0342 - val_accuracy: 0.9933 - 91s/epoch - 189ms/step\n",
      "Epoch 16/20\n",
      "480/480 - 91s - loss: 0.0045 - accuracy: 0.9986 - val_loss: 0.0474 - val_accuracy: 0.9908 - 91s/epoch - 190ms/step\n",
      "Epoch 17/20\n",
      "480/480 - 91s - loss: 0.0060 - accuracy: 0.9981 - val_loss: 0.0475 - val_accuracy: 0.9907 - 91s/epoch - 189ms/step\n",
      "Epoch 18/20\n",
      "480/480 - 91s - loss: 0.0053 - accuracy: 0.9984 - val_loss: 0.0527 - val_accuracy: 0.9906 - 91s/epoch - 189ms/step\n",
      "Epoch 19/20\n",
      "480/480 - 92s - loss: 0.0041 - accuracy: 0.9986 - val_loss: 0.0466 - val_accuracy: 0.9910 - 92s/epoch - 191ms/step\n",
      "Epoch 20/20\n",
      "480/480 - 91s - loss: 0.0045 - accuracy: 0.9987 - val_loss: 0.0492 - val_accuracy: 0.9912 - 91s/epoch - 190ms/step\n"
     ]
    },
    {
     "data": {
      "text/plain": [
       "<keras.callbacks.History at 0x127fef10>"
      ]
     },
     "execution_count": 20,
     "metadata": {},
     "output_type": "execute_result"
    }
   ],
   "source": [
    "# train the neural network\n",
    "model.fit(x_train, y_train, batch_size = 100,\n",
    "          epochs = 20, verbose = 2, validation_split = 0.2)"
   ]
  },
  {
   "cell_type": "code",
   "execution_count": 21,
   "metadata": {},
   "outputs": [
    {
     "name": "stdout",
     "output_type": "stream",
     "text": [
      "313/313 [==============================] - 7s 22ms/step - loss: 0.0360 - accuracy: 0.9920\n",
      "test-loss =  0.035957444459199905\n",
      "test-accuracy =  0.9919999837875366\n"
     ]
    }
   ],
   "source": [
    "# evaluate the performance \n",
    "score = model.evaluate(x_test, y_test, verbose = 1)\n",
    "print(\"test-loss = \", score[0])\n",
    "print(\"test-accuracy = \", score[1])"
   ]
  },
  {
   "cell_type": "markdown",
   "metadata": {},
   "source": [
    "### Step 3: Save the model"
   ]
  },
  {
   "cell_type": "code",
   "execution_count": 22,
   "metadata": {},
   "outputs": [],
   "source": [
    "# save the model structure\n",
    "model_json = model.to_json()\n",
    "with open(\"model.json\", \"w\") as json_file:\n",
    "    json_file.write(model_json)"
   ]
  },
  {
   "cell_type": "code",
   "execution_count": 23,
   "metadata": {},
   "outputs": [],
   "source": [
    "# save the parameters\n",
    "model.save_weights(\"weights.h5\")"
   ]
  },
  {
   "cell_type": "markdown",
   "metadata": {},
   "source": [
    "### Step 4: Preprocessing of image data"
   ]
  },
  {
   "cell_type": "code",
   "execution_count": 18,
   "metadata": {},
   "outputs": [],
   "source": [
    "from PIL import Image\n",
    "\n",
    "img = Image.open(\"../image2.png\")\n",
    "img = img.convert('L')\n",
    "img_sized = img.resize((28, 28))\n",
    "img_sized.show()"
   ]
  },
  {
   "cell_type": "code",
   "execution_count": 17,
   "metadata": {},
   "outputs": [
    {
     "data": {
      "text/plain": [
       "(1, 28, 28, 1)"
      ]
     },
     "execution_count": 17,
     "metadata": {},
     "output_type": "execute_result"
    }
   ],
   "source": [
    "# reshape\n",
    "import numpy as np\n",
    "\n",
    "x = np.asarray(img_sized)\n",
    "x = x.reshape((1, 28, 28, 1))\n",
    "x.shape\n"
   ]
  },
  {
   "cell_type": "code",
   "execution_count": null,
   "metadata": {},
   "outputs": [],
   "source": []
  }
 ],
 "metadata": {
  "kernelspec": {
   "display_name": "base",
   "language": "python",
   "name": "python3"
  },
  "language_info": {
   "codemirror_mode": {
    "name": "ipython",
    "version": 3
   },
   "file_extension": ".py",
   "mimetype": "text/x-python",
   "name": "python",
   "nbconvert_exporter": "python",
   "pygments_lexer": "ipython3",
   "version": "3.9.7"
  },
  "orig_nbformat": 4
 },
 "nbformat": 4,
 "nbformat_minor": 2
}
